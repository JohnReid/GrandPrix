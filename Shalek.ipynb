{
 "cells": [
  {
   "cell_type": "markdown",
   "metadata": {},
   "source": [
    "# Applying GPinfo on the single cell RNA-seq of mouse dendritic cells\n",
    "_Sumon Ahmed_, 2017\n",
    "\n",
    "This notebooks shows how GPinfo with informative prior over the latent space can be used to infer one dimensional pseudotime from the single cell RNA-seq of the primary bone-marrow-derived dendritic cells of mouse."
   ]
  },
  {
   "cell_type": "code",
   "execution_count": 1,
   "metadata": {
    "collapsed": true
   },
   "outputs": [],
   "source": [
    "import pandas as pd\n",
    "import numpy as np\n",
    "from BGPLVM import GPinfo\n",
    "from utils import plot, plot_fitting_time_comparison\n",
    "%matplotlib inline"
   ]
  },
  {
   "cell_type": "markdown",
   "metadata": {},
   "source": [
    "## Data description\n",
    "\n",
    "<a href=\"https://www.ncbi.nlm.nih.gov/pubmed/24919153\" target=\"_blank\">Shalek et al. (2014)</a> generated single cell RNA-seq from the primary bone-marrow-derived dendritic cells of mouse in three different conditions.They described\n",
    "several modules of genes which show different temporal expression patterns through the lipopolysaccharide stimulated (LPS) time course.\n",
    "\n",
    "They found two cells captured at the 1 hour mark which switched to this group precociously, i.e. have genes expressed which are not expressed in the other cells of the 1 hour group.\n",
    "\n",
    "The \"ShalekTrainingData.csv\" file contains the expression profiles of the top 74 variable expressed genes in 307 cells from the LPS time course which have been used in the inference.\n",
    "\n",
    "The \"ShalekCellMeta.csv\" file contains the additional information of the data such as capture time of each cells, different initializations of pseudotimes, etc."
   ]
  },
  {
   "cell_type": "code",
   "execution_count": 2,
   "metadata": {
    "collapsed": true
   },
   "outputs": [],
   "source": [
    "Y = pd.read_csv('data/Shalek/ShalekTrainingData.csv', index_col=[0]).T.values\n",
    "mData = pd.read_csv('data/Shalek/ShalekCellMeta.csv', index_col=[0])"
   ]
  },
  {
   "cell_type": "code",
   "execution_count": 3,
   "metadata": {
    "collapsed": false
   },
   "outputs": [],
   "source": [
    "from sklearn import preprocessing\n",
    "Y = preprocessing.scale(Y)\n",
    "N, D = Y.shape"
   ]
  },
  {
   "cell_type": "code",
   "execution_count": 4,
   "metadata": {
    "collapsed": false
   },
   "outputs": [
    {
     "data": {
      "text/html": [
       "<div>\n",
       "<table border=\"1\" class=\"dataframe\">\n",
       "  <thead>\n",
       "    <tr style=\"text-align: right;\">\n",
       "      <th></th>\n",
       "      <th>c</th>\n",
       "      <th>cell</th>\n",
       "      <th>assay</th>\n",
       "      <th>ko</th>\n",
       "      <th>stimulant</th>\n",
       "      <th>captureActual</th>\n",
       "      <th>replicate</th>\n",
       "      <th>cell.num</th>\n",
       "      <th>obstime</th>\n",
       "      <th>total</th>\n",
       "      <th>...</th>\n",
       "      <th>prior31</th>\n",
       "      <th>prior32</th>\n",
       "      <th>prior33</th>\n",
       "      <th>prior34</th>\n",
       "      <th>prior35</th>\n",
       "      <th>prior36</th>\n",
       "      <th>prior37</th>\n",
       "      <th>prior38</th>\n",
       "      <th>prior39</th>\n",
       "      <th>prior40</th>\n",
       "    </tr>\n",
       "  </thead>\n",
       "  <tbody>\n",
       "    <tr>\n",
       "      <th>1</th>\n",
       "      <td>1</td>\n",
       "      <td>Unstimulated_S15</td>\n",
       "      <td>NaN</td>\n",
       "      <td>NaN</td>\n",
       "      <td>NaN</td>\n",
       "      <td>Unstimulated</td>\n",
       "      <td>NaN</td>\n",
       "      <td>15</td>\n",
       "      <td>0</td>\n",
       "      <td>8930811</td>\n",
       "      <td>...</td>\n",
       "      <td>-0.529412</td>\n",
       "      <td>2.163399</td>\n",
       "      <td>0.176471</td>\n",
       "      <td>2.764706</td>\n",
       "      <td>6.843137</td>\n",
       "      <td>0.176471</td>\n",
       "      <td>2.764706</td>\n",
       "      <td>0.176471</td>\n",
       "      <td>1.640523</td>\n",
       "      <td>2.424837</td>\n",
       "    </tr>\n",
       "    <tr>\n",
       "      <th>2</th>\n",
       "      <td>2</td>\n",
       "      <td>Unstimulated_S16</td>\n",
       "      <td>NaN</td>\n",
       "      <td>NaN</td>\n",
       "      <td>NaN</td>\n",
       "      <td>Unstimulated</td>\n",
       "      <td>NaN</td>\n",
       "      <td>16</td>\n",
       "      <td>0</td>\n",
       "      <td>8438017</td>\n",
       "      <td>...</td>\n",
       "      <td>-0.398693</td>\n",
       "      <td>1.535948</td>\n",
       "      <td>-0.450980</td>\n",
       "      <td>0.385621</td>\n",
       "      <td>3.758170</td>\n",
       "      <td>-0.346405</td>\n",
       "      <td>3.549020</td>\n",
       "      <td>-0.346405</td>\n",
       "      <td>0.516340</td>\n",
       "      <td>2.686275</td>\n",
       "    </tr>\n",
       "    <tr>\n",
       "      <th>3</th>\n",
       "      <td>3</td>\n",
       "      <td>Unstimulated_S17</td>\n",
       "      <td>NaN</td>\n",
       "      <td>NaN</td>\n",
       "      <td>NaN</td>\n",
       "      <td>Unstimulated</td>\n",
       "      <td>NaN</td>\n",
       "      <td>17</td>\n",
       "      <td>0</td>\n",
       "      <td>8517120</td>\n",
       "      <td>...</td>\n",
       "      <td>-0.294118</td>\n",
       "      <td>0.542484</td>\n",
       "      <td>-0.346405</td>\n",
       "      <td>1.745098</td>\n",
       "      <td>2.503268</td>\n",
       "      <td>-0.450980</td>\n",
       "      <td>3.026144</td>\n",
       "      <td>-0.032680</td>\n",
       "      <td>2.137255</td>\n",
       "      <td>2.660131</td>\n",
       "    </tr>\n",
       "    <tr>\n",
       "      <th>4</th>\n",
       "      <td>4</td>\n",
       "      <td>Unstimulated_S23</td>\n",
       "      <td>NaN</td>\n",
       "      <td>NaN</td>\n",
       "      <td>NaN</td>\n",
       "      <td>Unstimulated</td>\n",
       "      <td>NaN</td>\n",
       "      <td>23</td>\n",
       "      <td>0</td>\n",
       "      <td>5975840</td>\n",
       "      <td>...</td>\n",
       "      <td>0.228758</td>\n",
       "      <td>2.006536</td>\n",
       "      <td>-0.529412</td>\n",
       "      <td>1.143791</td>\n",
       "      <td>3.261438</td>\n",
       "      <td>-0.738562</td>\n",
       "      <td>3.784314</td>\n",
       "      <td>-0.398693</td>\n",
       "      <td>1.562092</td>\n",
       "      <td>3.078431</td>\n",
       "    </tr>\n",
       "    <tr>\n",
       "      <th>5</th>\n",
       "      <td>5</td>\n",
       "      <td>Unstimulated_S24</td>\n",
       "      <td>NaN</td>\n",
       "      <td>NaN</td>\n",
       "      <td>NaN</td>\n",
       "      <td>Unstimulated</td>\n",
       "      <td>NaN</td>\n",
       "      <td>24</td>\n",
       "      <td>0</td>\n",
       "      <td>11633075</td>\n",
       "      <td>...</td>\n",
       "      <td>-0.424837</td>\n",
       "      <td>1.091503</td>\n",
       "      <td>-0.032680</td>\n",
       "      <td>1.614379</td>\n",
       "      <td>2.973856</td>\n",
       "      <td>-0.529412</td>\n",
       "      <td>3.496732</td>\n",
       "      <td>-0.529412</td>\n",
       "      <td>-0.529412</td>\n",
       "      <td>2.398693</td>\n",
       "    </tr>\n",
       "  </tbody>\n",
       "</table>\n",
       "<p>5 rows × 58 columns</p>\n",
       "</div>"
      ],
      "text/plain": [
       "   c              cell  assay  ko stimulant captureActual  replicate  \\\n",
       "1  1  Unstimulated_S15    NaN NaN       NaN  Unstimulated        NaN   \n",
       "2  2  Unstimulated_S16    NaN NaN       NaN  Unstimulated        NaN   \n",
       "3  3  Unstimulated_S17    NaN NaN       NaN  Unstimulated        NaN   \n",
       "4  4  Unstimulated_S23    NaN NaN       NaN  Unstimulated        NaN   \n",
       "5  5  Unstimulated_S24    NaN NaN       NaN  Unstimulated        NaN   \n",
       "\n",
       "   cell.num  obstime     total    ...      prior31   prior32   prior33  \\\n",
       "1        15        0   8930811    ...    -0.529412  2.163399  0.176471   \n",
       "2        16        0   8438017    ...    -0.398693  1.535948 -0.450980   \n",
       "3        17        0   8517120    ...    -0.294118  0.542484 -0.346405   \n",
       "4        23        0   5975840    ...     0.228758  2.006536 -0.529412   \n",
       "5        24        0  11633075    ...    -0.424837  1.091503 -0.032680   \n",
       "\n",
       "    prior34   prior35   prior36   prior37   prior38   prior39   prior40  \n",
       "1  2.764706  6.843137  0.176471  2.764706  0.176471  1.640523  2.424837  \n",
       "2  0.385621  3.758170 -0.346405  3.549020 -0.346405  0.516340  2.686275  \n",
       "3  1.745098  2.503268 -0.450980  3.026144 -0.032680  2.137255  2.660131  \n",
       "4  1.143791  3.261438 -0.738562  3.784314 -0.398693  1.562092  3.078431  \n",
       "5  1.614379  2.973856 -0.529412  3.496732 -0.529412 -0.529412  2.398693  \n",
       "\n",
       "[5 rows x 58 columns]"
      ]
     },
     "execution_count": 4,
     "metadata": {},
     "output_type": "execute_result"
    }
   ],
   "source": [
    "mData.head()"
   ]
  },
  {
   "cell_type": "markdown",
   "metadata": {},
   "source": [
    "## Model Construction\n",
    "The first step of using the GPinfo is to initialize the model with the observed data and the additional metadata (optional)."
   ]
  },
  {
   "cell_type": "code",
   "execution_count": 5,
   "metadata": {
    "collapsed": true
   },
   "outputs": [],
   "source": [
    "mp = GPinfo(Y, mData)"
   ]
  },
  {
   "cell_type": "markdown",
   "metadata": {},
   "source": [
    "### Build sparse Bayesian GPLVM model\n",
    "Following initializations are essential for better optimizations. If not initialized, the default values will be used.  \n",
    "<ul>\n",
    "<li>__kernel:__ Covariance function to define the mappring mapping from the latent space to the data space in Gaussian process prior. \n",
    "<!--\n",
    "    <ul>\n",
    "        <li>name</li>\n",
    "        <li>ls</li>\n",
    "        <li>var</li>\n",
    "        <li>period</li>\n",
    "    </ul>\n",
    "-->\n",
    "</li>\n",
    "\n",
    "<li>__vParams:__ Variational Parameters\n",
    "    <ul>\n",
    "        <li>Xmean - mean of the latent dimensions. \n",
    "        \n",
    "        ndarray of size $N \\times Q$.</li>\n",
    "        <li>Xvar - variance over the latent dimensions. A single floating point value or a ndarray of size $N \\times Q$.</li>\n",
    "        <li>Z - inducing inputs. ndarray of size $M \\times Q$.</li>\n",
    "    </ul>\n",
    "</li>\n",
    "<li>__priors:__ Prior over the latent input dimensions\n",
    "    <ul>\n",
    "        <li>Priormean - mean of the prior distribution. ndarray of size $N \\times D$.</li>\n",
    "        <li>Priorvar - variance of the prior distribution. A floating point value or a ndarray of size $N \\times D$.</li>\n",
    "    </ul>\n",
    "</li>\n",
    "\n",
    "<li>__latent_dims:__ Number of latent dimensions. An integer.</li>\n",
    "<li>__n_inducing_points:__ Number of inducing points. An integer.</li>\n",
    "</ul>"
   ]
  },
  {
   "cell_type": "code",
   "execution_count": 6,
   "metadata": {
    "collapsed": false
   },
   "outputs": [],
   "source": [
    "latent_dims = 1\n",
    "n_inducing_points = 30\n",
    "\n",
    "np.random.seed(10)\n",
    "sigma_t = 1.\n",
    "prior_mean = mData['capture.orig'].values[:, None]\n",
    "\n",
    "X_mean = [prior_mean[i, 0] + sigma_t * np.random.randn(1) for i in range(0, N)]   \n",
    "\n",
    "np.random.seed(10)\n",
    "Z = np.random.rand(n_inducing_points, latent_dims)\n",
    "\n",
    "priors = {'Priormean':prior_mean, 'Priorvar':np.square(sigma_t)}\n",
    "vParams = {'Xmean':np.asarray(X_mean), 'Z':Z}"
   ]
  },
  {
   "cell_type": "code",
   "execution_count": 7,
   "metadata": {
    "collapsed": false
   },
   "outputs": [],
   "source": [
    "mp.build_model(priors, vParams, kernel={'name':'Matern32', 'ls':5.0, 'var':1.0}, n_inducing_points = 30)"
   ]
  },
  {
   "cell_type": "markdown",
   "metadata": {},
   "source": [
    "### Run the model\n",
    "- `fit_model` optimizes the model.\n",
    "- `get_pseudotime` returns the estimated pseudotime points."
   ]
  },
  {
   "cell_type": "code",
   "execution_count": 8,
   "metadata": {
    "collapsed": false
   },
   "outputs": [],
   "source": [
    "mp.fit_model()"
   ]
  },
  {
   "cell_type": "code",
   "execution_count": 9,
   "metadata": {
    "collapsed": false
   },
   "outputs": [],
   "source": [
    "pseudotimes = mp.get_pseudotime()"
   ]
  },
  {
   "cell_type": "markdown",
   "metadata": {},
   "source": [
    "## Visualize the results\n",
    "The module score <a href=\"https://www.ncbi.nlm.nih.gov/pubmed/24919153\" target=\"_blank\" style=\"text-decoration:none\">(Shalek et al., 2014)</a> of core antiviral genes have been plotted over the estimated pseudotimes. Each point corresponds to the module score of a cell. \n",
    "\n",
    "The points are coloured according to the actual cell capture time.\n",
    "\n",
    "A Loess curve through the data have been generated by using the R `stat_smooth` function. "
   ]
  },
  {
   "cell_type": "code",
   "execution_count": 10,
   "metadata": {
    "collapsed": false
   },
   "outputs": [],
   "source": [
    "data = pd.DataFrame({'Pseudotime':pseudotimes.reshape(-1), 'Module_score':mData['module.score'], \n",
    "                     'capture':mData['obstime'].values, 'type':mData['Precocious'].values})\n",
    "data=data.sort('type', ascending=True)"
   ]
  },
  {
   "cell_type": "code",
   "execution_count": 11,
   "metadata": {
    "collapsed": false
   },
   "outputs": [],
   "source": [
    "import readline\n",
    "import rpy2.robjects\n",
    "%load_ext rpy2.ipython"
   ]
  },
  {
   "cell_type": "code",
   "execution_count": 12,
   "metadata": {
    "collapsed": false
   },
   "outputs": [],
   "source": [
    "%%R\n",
    "library(ggplot2)"
   ]
  },
  {
   "cell_type": "code",
   "execution_count": 13,
   "metadata": {
    "collapsed": false
   },
   "outputs": [
    {
     "data": {
      "image/png": "[encoded data removed]"
     },
     "metadata": {},
     "output_type": "display_data"
    }
   ],
   "source": [
    "%%R -i data -w 650\n",
    "head(data)\n",
    "\n",
    "plots1<-(\n",
    "    ggplot(data,\n",
    "           aes(x=Pseudotime, y=Module_score, color=as.factor(capture), shape=type, size=type=='Precocious'))\n",
    "    + stat_smooth(aes(group=\"\", color=NULL), size=2)\n",
    "    + scale_size_manual(values=c(4, 7))\n",
    "    + theme(panel.background = element_rect(fill=\"white\", linetype=\"solid\", color=\"black\"))\n",
    "    + theme(text = element_text(size=20))\n",
    ")\n",
    "plots1 = plots1 + geom_point(alpha=0.5) + scale_colour_manual(name = 'Capture Time', \n",
    "         values =c('0'='red','1'='blue','2'='green','4'='orange','6'='darkviolet'), \n",
    "                                      labels = c('Unstimulated','1hr','2hr','4hr','6hr'))\n",
    "plots1 = plots1 + guides(size=FALSE, shape = guide_legend(override.aes = list(size=5)))\n",
    "print(plots1)"
   ]
  },
  {
   "cell_type": "markdown",
   "metadata": {
    "collapsed": true
   },
   "source": [
    "## Comparison to the <a href=\"https://github.com/JohnReid/DeLorean\" target=\"_blank\" style=\"text-decoration:none;\"> DeLorean Model</a>\n",
    "* $20$ different initializations have been used\n",
    "* Models have been compared for varying number of inducing points in terms of the fitting times required "
   ]
  },
  {
   "cell_type": "code",
   "execution_count": 14,
   "metadata": {
    "collapsed": false
   },
   "outputs": [
    {
     "data": {
      "image/png": "[encoded data removed]",
      "text/plain": [
       "<matplotlib.figure.Figure at 0x7f593bdd3ef0>"
      ]
     },
     "metadata": {},
     "output_type": "display_data"
    }
   ],
   "source": [
    "plotDf = pd.read_csv('data/Shalek/ShalekComparison.csv', index_col=[0])\n",
    "plot_fitting_time_comparison(plotDf)"
   ]
  },
  {
   "cell_type": "code",
   "execution_count": null,
   "metadata": {
    "collapsed": false
   },
   "outputs": [],
   "source": [
    "u = [6, 8, 10, 12, 14, 16, 18, 20, 22, 24, 26, 28, 30, 32]\n",
    "keys = mData.keys()\n",
    "rows = len(u)\n",
    "cols = len(keys) - 18\n",
    "# cols = 4\n",
    "\n",
    "reqTime = np.zeros((rows, cols))\n",
    "\n",
    "for i in range(0, rows):\n",
    "    for j in range(0, cols):\n",
    "        np.random.seed(10)\n",
    "        Z = np.random.rand(u[i], latent_dims)\n",
    "        vParams = {'Xmean':keys[j + 18], 'Z':Z}\n",
    "        mp.build_model(priors, vParams, kernel={'name':'Matern32', 'ls':5.0, 'var':1.0}, n_inducing_points = u[i])\n",
    "        mp.fit_model()\n",
    "        reqTime[i,j] = mp.get_model_fitting_time()\n",
    "\n",
    "avgReqTime = [np.mean(reqTime[n]) for n in range(0, rows)]\n",
    "# plotDf['GPLVM_fitting_time'] = avgReqTime"
   ]
  },
  {
   "cell_type": "code",
   "execution_count": 11,
   "metadata": {
    "collapsed": false
   },
   "outputs": [
    {
     "data": {
      "text/plain": [
       "[5.1252019882202147, 6.3798613548278809]"
      ]
     },
     "execution_count": 11,
     "metadata": {},
     "output_type": "execute_result"
    }
   ],
   "source": [
    "avgReqTime"
   ]
  },
  {
   "cell_type": "code",
   "execution_count": 12,
   "metadata": {
    "collapsed": false
   },
   "outputs": [
    {
     "data": {
      "text/plain": [
       "array([[ 5.6698885 ,  5.50489354,  5.72783613,  5.32779217,  6.55703115,\n",
       "         4.79338956,  5.62853909,  5.09462929,  5.71437263,  5.84980392,\n",
       "         5.34561968,  5.33373475,  5.50994205,  6.08243489,  4.99465132,\n",
       "         4.92397213,  4.8088398 ,  4.49904704,  4.95401859,  4.79973459,\n",
       "         4.90347433,  4.873487  ,  4.65380502,  4.62673831,  4.64009953,\n",
       "         4.56124592,  4.85068536,  5.13934374,  4.98986101,  5.4368434 ,\n",
       "         5.69844246,  5.08539915,  4.94035506,  4.87353444,  5.76457047,\n",
       "         4.59284067,  4.32714105,  4.61923432,  4.90607238,  4.40473509],\n",
       "       [ 7.08130789,  6.50435758,  7.26111794,  6.49602127,  7.14409304,\n",
       "         5.25515389,  6.64178824,  5.82059455,  6.41300368,  6.82235932,\n",
       "         6.24161029,  6.36332202,  6.47627759,  7.0584507 ,  5.375525  ,\n",
       "         6.48251081,  5.9068203 ,  5.34640861,  6.44964099,  6.2343924 ,\n",
       "         5.91797256,  6.14636111,  5.58624005,  6.25725007,  6.41858315,\n",
       "         6.13495016,  5.37686586,  6.13060999,  6.73070526,  6.84919214,\n",
       "         7.83155131,  6.46655369,  6.98280334,  6.94144678,  6.66483974,\n",
       "         6.713552  ,  5.66976571,  5.95457983,  7.51742506,  5.52845025]])"
      ]
     },
     "execution_count": 12,
     "metadata": {},
     "output_type": "execute_result"
    }
   ],
   "source": [
    "reqTime"
   ]
  },
  {
   "cell_type": "code",
   "execution_count": null,
   "metadata": {
    "collapsed": true
   },
   "outputs": [],
   "source": []
  }
 ],
 "metadata": {
  "anaconda-cloud": {},
  "kernelspec": {
   "display_name": "Python [conda root]",
   "language": "python",
   "name": "conda-root-py"
  },
  "language_info": {
   "codemirror_mode": {
    "name": "ipython",
    "version": 3
   },
   "file_extension": ".py",
   "mimetype": "text/x-python",
   "name": "python",
   "nbconvert_exporter": "python",
   "pygments_lexer": "ipython3",
   "version": "3.5.2"
  }
 },
 "nbformat": 4,
 "nbformat_minor": 1
}
