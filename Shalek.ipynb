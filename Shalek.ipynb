{
 "cells": [
  {
   "cell_type": "markdown",
   "metadata": {},
   "source": [
    "# Applying GrandPrix on the single cell RNA-seq of mouse dendritic cells\n",
    "_Sumon Ahmed_, 2017\n",
    "\n",
    "This notebooks shows how GrandPrix with informative prior over the latent space can be used to infer one dimensional pseudotime from the single cell RNA-seq of the primary bone-marrow-derived dendritic cells of mouse."
   ]
  },
  {
   "cell_type": "code",
   "execution_count": 3,
   "metadata": {
    "collapsed": false
   },
   "outputs": [],
   "source": [
    "import pandas as pd\n",
    "import numpy as np\n",
    "from GrandPrix import GrandPrix\n",
    "from utils import plot, plot_fitting_time_comparison\n",
    "%matplotlib inline"
   ]
  },
  {
   "cell_type": "markdown",
   "metadata": {},
   "source": [
    "## Data description\n",
    "\n",
    "<a href=\"https://www.ncbi.nlm.nih.gov/pubmed/24919153\" target=\"_blank\">Shalek et al. (2014)</a> generated single cell RNA-seq from the primary bone-marrow-derived dendritic cells of mouse in three different conditions.They described\n",
    "several modules of genes which show different temporal expression patterns through the lipopolysaccharide stimulated (LPS) time course.\n",
    "\n",
    "They found two cells captured at the 1 hour mark which switched to this group precociously, i.e. have genes expressed which are not expressed in the other cells of the 1 hour group.\n",
    "\n",
    "The \"ShalekTrainingData.csv\" file contains the expression profiles of the top 74 variable expressed genes in 307 cells from the LPS time course which have been used in the inference.\n",
    "\n",
    "The \"ShalekCellMeta.csv\" file contains the additional information of the data such as capture time of each cells, different initializations of pseudotimes, etc."
   ]
  },
  {
   "cell_type": "code",
   "execution_count": 4,
   "metadata": {
    "collapsed": false
   },
   "outputs": [],
   "source": [
    "Y = pd.read_csv('data/Shalek/ShalekTrainingData.csv', index_col=[0]).T.values\n",
    "mData = pd.read_csv('data/Shalek/ShalekCellMeta.csv', index_col=[0])"
   ]
  },
  {
   "cell_type": "code",
   "execution_count": 5,
   "metadata": {
    "collapsed": false
   },
   "outputs": [],
   "source": [
    "from sklearn import preprocessing\n",
    "Y = preprocessing.scale(Y)\n",
    "N, D = Y.shape"
   ]
  },
  {
   "cell_type": "code",
   "execution_count": 6,
   "metadata": {
    "collapsed": false
   },
   "outputs": [
    {
     "data": {
      "text/html": [
       "<div>\n",
       "<table border=\"1\" class=\"dataframe\">\n",
       "  <thead>\n",
       "    <tr style=\"text-align: right;\">\n",
       "      <th></th>\n",
       "      <th>c</th>\n",
       "      <th>cell</th>\n",
       "      <th>assay</th>\n",
       "      <th>ko</th>\n",
       "      <th>stimulant</th>\n",
       "      <th>captureActual</th>\n",
       "      <th>replicate</th>\n",
       "      <th>cell.num</th>\n",
       "      <th>obstime</th>\n",
       "      <th>total</th>\n",
       "      <th>...</th>\n",
       "      <th>init_11</th>\n",
       "      <th>init_12</th>\n",
       "      <th>init_13</th>\n",
       "      <th>init_14</th>\n",
       "      <th>init_15</th>\n",
       "      <th>init_16</th>\n",
       "      <th>init_17</th>\n",
       "      <th>init_18</th>\n",
       "      <th>init_19</th>\n",
       "      <th>init_20</th>\n",
       "    </tr>\n",
       "  </thead>\n",
       "  <tbody>\n",
       "    <tr>\n",
       "      <th>1</th>\n",
       "      <td>1</td>\n",
       "      <td>Unstimulated_S15</td>\n",
       "      <td>NaN</td>\n",
       "      <td>NaN</td>\n",
       "      <td>NaN</td>\n",
       "      <td>Unstimulated</td>\n",
       "      <td>NaN</td>\n",
       "      <td>15</td>\n",
       "      <td>0</td>\n",
       "      <td>8930811</td>\n",
       "      <td>...</td>\n",
       "      <td>0.176471</td>\n",
       "      <td>4.124183</td>\n",
       "      <td>3.183007</td>\n",
       "      <td>-0.686275</td>\n",
       "      <td>-0.320261</td>\n",
       "      <td>-0.529412</td>\n",
       "      <td>2.764706</td>\n",
       "      <td>0.202614</td>\n",
       "      <td>-0.686275</td>\n",
       "      <td>-0.686275</td>\n",
       "    </tr>\n",
       "    <tr>\n",
       "      <th>2</th>\n",
       "      <td>2</td>\n",
       "      <td>Unstimulated_S16</td>\n",
       "      <td>NaN</td>\n",
       "      <td>NaN</td>\n",
       "      <td>NaN</td>\n",
       "      <td>Unstimulated</td>\n",
       "      <td>NaN</td>\n",
       "      <td>16</td>\n",
       "      <td>0</td>\n",
       "      <td>8438017</td>\n",
       "      <td>...</td>\n",
       "      <td>-0.450980</td>\n",
       "      <td>1.352941</td>\n",
       "      <td>3.000000</td>\n",
       "      <td>-0.555556</td>\n",
       "      <td>-0.790850</td>\n",
       "      <td>-0.921569</td>\n",
       "      <td>3.549020</td>\n",
       "      <td>-0.294118</td>\n",
       "      <td>0.098039</td>\n",
       "      <td>0.437908</td>\n",
       "    </tr>\n",
       "    <tr>\n",
       "      <th>3</th>\n",
       "      <td>3</td>\n",
       "      <td>Unstimulated_S17</td>\n",
       "      <td>NaN</td>\n",
       "      <td>NaN</td>\n",
       "      <td>NaN</td>\n",
       "      <td>Unstimulated</td>\n",
       "      <td>NaN</td>\n",
       "      <td>17</td>\n",
       "      <td>0</td>\n",
       "      <td>8517120</td>\n",
       "      <td>...</td>\n",
       "      <td>-0.346405</td>\n",
       "      <td>1.379085</td>\n",
       "      <td>3.810458</td>\n",
       "      <td>-0.764706</td>\n",
       "      <td>0.254902</td>\n",
       "      <td>-0.738562</td>\n",
       "      <td>3.026144</td>\n",
       "      <td>-0.163399</td>\n",
       "      <td>2.032680</td>\n",
       "      <td>0.098039</td>\n",
       "    </tr>\n",
       "    <tr>\n",
       "      <th>4</th>\n",
       "      <td>4</td>\n",
       "      <td>Unstimulated_S23</td>\n",
       "      <td>NaN</td>\n",
       "      <td>NaN</td>\n",
       "      <td>NaN</td>\n",
       "      <td>Unstimulated</td>\n",
       "      <td>NaN</td>\n",
       "      <td>23</td>\n",
       "      <td>0</td>\n",
       "      <td>5975840</td>\n",
       "      <td>...</td>\n",
       "      <td>-0.764706</td>\n",
       "      <td>-0.346405</td>\n",
       "      <td>3.679739</td>\n",
       "      <td>-0.032680</td>\n",
       "      <td>0.228758</td>\n",
       "      <td>-0.450980</td>\n",
       "      <td>3.784314</td>\n",
       "      <td>-0.581699</td>\n",
       "      <td>0.437908</td>\n",
       "      <td>2.032680</td>\n",
       "    </tr>\n",
       "    <tr>\n",
       "      <th>5</th>\n",
       "      <td>5</td>\n",
       "      <td>Unstimulated_S24</td>\n",
       "      <td>NaN</td>\n",
       "      <td>NaN</td>\n",
       "      <td>NaN</td>\n",
       "      <td>Unstimulated</td>\n",
       "      <td>NaN</td>\n",
       "      <td>24</td>\n",
       "      <td>0</td>\n",
       "      <td>11633075</td>\n",
       "      <td>...</td>\n",
       "      <td>-0.921569</td>\n",
       "      <td>-0.450980</td>\n",
       "      <td>2.895425</td>\n",
       "      <td>-0.398693</td>\n",
       "      <td>-0.006536</td>\n",
       "      <td>-0.346405</td>\n",
       "      <td>2.163399</td>\n",
       "      <td>-0.686275</td>\n",
       "      <td>1.169935</td>\n",
       "      <td>1.169935</td>\n",
       "    </tr>\n",
       "  </tbody>\n",
       "</table>\n",
       "<p>5 rows × 38 columns</p>\n",
       "</div>"
      ],
      "text/plain": [
       "   c              cell  assay  ko stimulant captureActual  replicate  \\\n",
       "1  1  Unstimulated_S15    NaN NaN       NaN  Unstimulated        NaN   \n",
       "2  2  Unstimulated_S16    NaN NaN       NaN  Unstimulated        NaN   \n",
       "3  3  Unstimulated_S17    NaN NaN       NaN  Unstimulated        NaN   \n",
       "4  4  Unstimulated_S23    NaN NaN       NaN  Unstimulated        NaN   \n",
       "5  5  Unstimulated_S24    NaN NaN       NaN  Unstimulated        NaN   \n",
       "\n",
       "   cell.num  obstime     total    ...      init_11   init_12   init_13  \\\n",
       "1        15        0   8930811    ...     0.176471  4.124183  3.183007   \n",
       "2        16        0   8438017    ...    -0.450980  1.352941  3.000000   \n",
       "3        17        0   8517120    ...    -0.346405  1.379085  3.810458   \n",
       "4        23        0   5975840    ...    -0.764706 -0.346405  3.679739   \n",
       "5        24        0  11633075    ...    -0.921569 -0.450980  2.895425   \n",
       "\n",
       "    init_14   init_15   init_16   init_17   init_18   init_19   init_20  \n",
       "1 -0.686275 -0.320261 -0.529412  2.764706  0.202614 -0.686275 -0.686275  \n",
       "2 -0.555556 -0.790850 -0.921569  3.549020 -0.294118  0.098039  0.437908  \n",
       "3 -0.764706  0.254902 -0.738562  3.026144 -0.163399  2.032680  0.098039  \n",
       "4 -0.032680  0.228758 -0.450980  3.784314 -0.581699  0.437908  2.032680  \n",
       "5 -0.398693 -0.006536 -0.346405  2.163399 -0.686275  1.169935  1.169935  \n",
       "\n",
       "[5 rows x 38 columns]"
      ]
     },
     "execution_count": 6,
     "metadata": {},
     "output_type": "execute_result"
    }
   ],
   "source": [
    "mData.head()"
   ]
  },
  {
   "cell_type": "markdown",
   "metadata": {},
   "source": [
    "## Model Construction\n",
    "The first step of using the GrandPrix is to initialize the model with the observed data and the additional metadata (optional)."
   ]
  },
  {
   "cell_type": "code",
   "execution_count": 7,
   "metadata": {
    "collapsed": false
   },
   "outputs": [],
   "source": [
    "mp = GrandPrix(Y, mData)"
   ]
  },
  {
   "cell_type": "markdown",
   "metadata": {},
   "source": [
    "### Build sparse Bayesian GPLVM model\n",
    "Following initializations are essential for better optimizations. If not initialized, the default values will be used.  \n",
    "<ul>\n",
    "<li>__kernel:__ Covariance function to define the mappring mapping from the latent space to the data space in Gaussian process prior. \n",
    "<!--\n",
    "    <ul>\n",
    "        <li>name</li>\n",
    "        <li>ls</li>\n",
    "        <li>var</li>\n",
    "        <li>period</li>\n",
    "    </ul>\n",
    "-->\n",
    "</li>\n",
    "\n",
    "<li>__vParams:__ Variational Parameters\n",
    "    <ul>\n",
    "        <li>Xmean - mean of the latent dimensions. \n",
    "        \n",
    "        ndarray of size $N \\times Q$.</li>\n",
    "        <li>Xvar - variance over the latent dimensions. A single floating point value or a ndarray of size $N \\times Q$.</li>\n",
    "        <li>Z - inducing inputs. ndarray of size $M \\times Q$.</li>\n",
    "    </ul>\n",
    "</li>\n",
    "<li>__priors:__ Prior over the latent input dimensions\n",
    "    <ul>\n",
    "        <li>Priormean - mean of the prior distribution. ndarray of size $N \\times D$.</li>\n",
    "        <li>Priorvar - variance of the prior distribution. A floating point value or a ndarray of size $N \\times D$.</li>\n",
    "    </ul>\n",
    "</li>\n",
    "\n",
    "<li>__latent_dims:__ Number of latent dimensions. An integer.</li>\n",
    "<li>__n_inducing_points:__ Number of inducing points. An integer.</li>\n",
    "</ul>"
   ]
  },
  {
   "cell_type": "code",
   "execution_count": 8,
   "metadata": {
    "collapsed": false
   },
   "outputs": [],
   "source": [
    "latent_dims = 1\n",
    "n_inducing_points = 30\n",
    "\n",
    "np.random.seed(10)\n",
    "sigma_t = 1.\n",
    "prior_mean = mData['capture.orig'].values[:, None]\n",
    "\n",
    "X_mean = [prior_mean[i, 0] + sigma_t * np.random.randn(1) for i in range(0, N)]   \n",
    "\n",
    "np.random.seed(10)\n",
    "Z = np.random.rand(n_inducing_points, latent_dims)\n",
    "\n",
    "priors = {'Priormean':prior_mean, 'Priorvar':np.square(sigma_t)}\n",
    "vParams = {'Xmean':np.asarray(X_mean), 'Z':Z}"
   ]
  },
  {
   "cell_type": "code",
   "execution_count": 9,
   "metadata": {
    "collapsed": false
   },
   "outputs": [],
   "source": [
    "mp.build_model(priors, vParams, kernel={'name':'Matern32', 'ls':5.0, 'var':1.0}, n_inducing_points = 30)"
   ]
  },
  {
   "cell_type": "markdown",
   "metadata": {},
   "source": [
    "### Run the model\n",
    "- `fit_model` optimizes the model.\n",
    "- `get_pseudotime` returns the estimated pseudotime points."
   ]
  },
  {
   "cell_type": "code",
   "execution_count": 10,
   "metadata": {
    "collapsed": false
   },
   "outputs": [],
   "source": [
    "mp.fit_model()"
   ]
  },
  {
   "cell_type": "code",
   "execution_count": 11,
   "metadata": {
    "collapsed": false
   },
   "outputs": [],
   "source": [
    "pseudotimes = mp.get_pseudotime()"
   ]
  },
  {
   "cell_type": "markdown",
   "metadata": {},
   "source": [
    "## Visualize the results\n",
    "The module score <a href=\"https://www.ncbi.nlm.nih.gov/pubmed/24919153\" target=\"_blank\" style=\"text-decoration:none\">(Shalek et al., 2014)</a> of core antiviral genes have been plotted over the estimated pseudotimes. Each point corresponds to the module score of a cell. \n",
    "\n",
    "The points are coloured according to the actual cell capture time.\n",
    "\n",
    "A Loess curve through the data have been generated by using the R `stat_smooth` function. "
   ]
  },
  {
   "cell_type": "code",
   "execution_count": 12,
   "metadata": {
    "collapsed": false
   },
   "outputs": [],
   "source": [
    "data = pd.DataFrame({'Pseudotime':pseudotimes.reshape(-1), 'Module_score':mData['module.score'], \n",
    "                     'capture':mData['obstime'].values, 'type':mData['Precocious'].values})\n",
    "data=data.sort('type', ascending=True)"
   ]
  },
  {
   "cell_type": "code",
   "execution_count": 13,
   "metadata": {
    "collapsed": false
   },
   "outputs": [],
   "source": [
    "import readline\n",
    "import rpy2.robjects\n",
    "%load_ext rpy2.ipython"
   ]
  },
  {
   "cell_type": "code",
   "execution_count": 14,
   "metadata": {
    "collapsed": false
   },
   "outputs": [],
   "source": [
    "%%R\n",
    "library(ggplot2)"
   ]
  },
  {
   "cell_type": "code",
   "execution_count": 15,
   "metadata": {
    "collapsed": false
   },
   "outputs": [
    {
     "data": {
      "image/png": "[encoded data removed]"
     },
     "metadata": {},
     "output_type": "display_data"
    }
   ],
   "source": [
    "%%R -i data -w 650\n",
    "head(data)\n",
    "\n",
    "plots1<-(\n",
    "    ggplot(data,\n",
    "           aes(x=Pseudotime, y=Module_score, color=as.factor(capture), shape=type, size=type=='Precocious'))\n",
    "    + stat_smooth(aes(group=\"\", color=NULL), size=2)\n",
    "    + scale_size_manual(values=c(4, 7))\n",
    "    + theme(panel.background = element_rect(fill=\"white\", linetype=\"solid\", color=\"black\"))\n",
    "    + theme(text = element_text(size=20))\n",
    ")\n",
    "plots1 = plots1 + geom_point(alpha=0.5) + scale_colour_manual(name = 'Capture Time', \n",
    "         values =c('0'='red','1'='blue','2'='green','4'='orange','6'='darkviolet'), \n",
    "                                      labels = c('Unstimulated','1hr','2hr','4hr','6hr'))\n",
    "plots1 = plots1 + guides(size=FALSE, shape = guide_legend(override.aes = list(size=5)))\n",
    "print(plots1)"
   ]
  },
  {
   "cell_type": "markdown",
   "metadata": {
    "collapsed": true
   },
   "source": [
    "## Comparison to the <a href=\"https://github.com/JohnReid/DeLorean\" target=\"_blank\" style=\"text-decoration:none;\"> DeLorean Model</a>\n",
    "* $20$ different initializations have been used\n",
    "* Models have been compared for varying number of inducing points in terms of the fitting times required "
   ]
  },
  {
   "cell_type": "code",
   "execution_count": 16,
   "metadata": {
    "collapsed": false
   },
   "outputs": [
    {
     "data": {
      "image/png": "[encoded data removed]",
      "text/plain": [
       "<matplotlib.figure.Figure at 0x7f366989ef98>"
      ]
     },
     "metadata": {},
     "output_type": "display_data"
    }
   ],
   "source": [
    "plotDf = pd.read_csv('data/Shalek/ShalekComparison.csv', index_col=[0])\n",
    "plot_fitting_time_comparison(plotDf)"
   ]
  },
  {
   "cell_type": "markdown",
   "metadata": {},
   "source": [
    "### The following code will regenerate the comparison result \n",
    "- The code uses 20 different initial conditions from ShalekMetaData.csv file.\n",
    "\n",
    "Runnig the following code will take a long time."
   ]
  },
  {
   "cell_type": "code",
   "execution_count": 17,
   "metadata": {
    "collapsed": false
   },
   "outputs": [],
   "source": [
    "u = [6, 8, 10, 12, 14, 16, 18, 20, 22, 24, 26, 28, 30, 32]\n",
    "keys = mData.keys()\n",
    "rows = len(u)\n",
    "cols = len(keys) - 18\n",
    "# cols = 4\n",
    "\n",
    "reqTime = np.zeros((rows, cols))\n",
    "\n",
    "for i in range(0, rows):\n",
    "    for j in range(0, cols):\n",
    "        np.random.seed(10)\n",
    "        Z = np.random.rand(u[i], latent_dims)\n",
    "        vParams = {'Xmean':keys[j + 18], 'Z':Z}\n",
    "        mp.build_model(priors, vParams, kernel={'name':'Matern32', 'ls':5.0, 'var':1.0}, n_inducing_points=u[i], fixed=('Z', 'X_var', 'k_ls', 'k_var'))\n",
    "        mp.fit_model()\n",
    "        reqTime[i,j] = mp.get_model_fitting_time()\n",
    "\n",
    "avgReqTime = [np.mean(reqTime[n]) for n in range(0, rows)]\n",
    "plotDf['GPLVM_fitting_time'] = avgReqTime"
   ]
  },
  {
   "cell_type": "code",
   "execution_count": 17,
   "metadata": {
    "collapsed": false
   },
   "outputs": [],
   "source": [
    "plot_fitting_time_comparison(plotDf)"
   ]
  }
 ],
 "metadata": {
  "anaconda-cloud": {},
  "kernelspec": {
   "display_name": "Python [conda root]",
   "language": "python",
   "name": "conda-root-py"
  },
  "language_info": {
   "codemirror_mode": {
    "name": "ipython",
    "version": 3
   },
   "file_extension": ".py",
   "mimetype": "text/x-python",
   "name": "python",
   "nbconvert_exporter": "python",
   "pygments_lexer": "ipython3",
   "version": "3.5.2"
  }
 },
 "nbformat": 4,
 "nbformat_minor": 1
}
