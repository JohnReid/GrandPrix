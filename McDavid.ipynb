{
 "cells": [
  {
   "cell_type": "markdown",
   "metadata": {},
   "source": [
    "# Applying GPinfo on the cell cycle single cell nCounter data of PC3 human prostate cancer\n",
    "_Sumon Ahmed_, 2017\n",
    "\n",
    "This notebooks describes how GPinfo with informative prior over the latent space can be used to infer the cell cycle stages from the single cell nCounter data of the PC3 human prostate cancer cell line."
   ]
  },
  {
   "cell_type": "code",
   "execution_count": null,
   "metadata": {
    "collapsed": true
   },
   "outputs": [],
   "source": [
    "import pandas as pd\n",
    "import numpy as np\n",
    "from BGPLVM import GPinfo\n",
    "from utils import plot, plot_comparison, calcroughness\n",
    "%matplotlib inline"
   ]
  },
  {
   "cell_type": "markdown",
   "metadata": {},
   "source": [
    "## Data decription\n",
    "<a href=\"https://www.ncbi.nlm.nih.gov/pmc/articles/PMC4102402/\" terget=\"_blank\">McDavid et al. (2014)</a> assayed the expression profiles of the PC3 human prostate cancer cell line. They identified the cells in G0/G1, S and G2/M cell cycle stages. \n",
    "\n",
    "The cells identified as G0/G1, S and G2/M have been mapped to the capture times of 1, 2 and 3, respectively. Due to the additional challenge of optimizing pseudotime parameters for periodic data, random pseudotimes having the largest log likelihood to estimate cell cycle peak time points have been used to initilize the prior.\n",
    "\n",
    "\n",
    "The \"McDavidtrainingData.csv\" file contains the expression profiles of the top 56 differentially expressed genes in 361 cells from the PC3 human prostate cancer cell line which have been used in the inference.\n",
    "\n",
    "The \"McDavidCellMeta.csv\" file contains the additional information of the data such as capture time of each cells, different initializations of pseudotimes, etc."
   ]
  },
  {
   "cell_type": "code",
   "execution_count": null,
   "metadata": {
    "collapsed": true
   },
   "outputs": [],
   "source": []
  },
  {
   "cell_type": "markdown",
   "metadata": {},
   "source": [
    "## Model Construction\n",
    "The first step of using the GPinfo is to initialize the model with the observed data and the additional metadata (optional)."
   ]
  },
  {
   "cell_type": "code",
   "execution_count": null,
   "metadata": {
    "collapsed": true
   },
   "outputs": [],
   "source": []
  },
  {
   "cell_type": "markdown",
   "metadata": {},
   "source": [
    "### Build sparse Bayesian GPLVM model\n",
    "Following initializations are essential for better optimizations. If not initialized, the default values will be used.  \n",
    "<ul>\n",
    "<li>__kernel:__ Covariance function to define the mappring mapping from the latent space to the data space in Gaussian process prior. \n",
    "<!--\n",
    "    <ul>\n",
    "        <li>name</li>\n",
    "        <li>ls</li>\n",
    "        <li>var</li>\n",
    "        <li>period</li>\n",
    "    </ul>\n",
    "-->\n",
    "</li>\n",
    "\n",
    "<li>__vParams:__ Variational Parameters\n",
    "    <ul>\n",
    "        <li>Xmean - mean of the latent dimensions. \n",
    "        \n",
    "        ndarray of size $N \\times Q$.</li>\n",
    "        <li>Xvar - variance over the latent dimensions. A single floating point value or a ndarray of size $N \\times Q$.</li>\n",
    "        <li>Z - inducing inputs. ndarray of size $M \\times Q$.</li>\n",
    "    </ul>\n",
    "</li>\n",
    "<li>__priors:__ Prior over the latent input dimensions\n",
    "    <ul>\n",
    "        <li>Priormean - mean of the prior distribution. ndarray of size $N \\times D$.</li>\n",
    "        <li>Priorvar - variance of the prior distribution. A floating point value or a ndarray of size $N \\times D$.</li>\n",
    "    </ul>\n",
    "</li>\n",
    "\n",
    "<li>__latent_dims:__ Number of latent dimensions. An integer.</li>\n",
    "<li>__n_inducing_points:__ Number of inducing points. An integer.</li>\n",
    "</ul>"
   ]
  },
  {
   "cell_type": "code",
   "execution_count": null,
   "metadata": {
    "collapsed": true
   },
   "outputs": [],
   "source": []
  },
  {
   "cell_type": "markdown",
   "metadata": {},
   "source": [
    "### Run the model\n",
    "- `fit_model` optimizes the model.\n",
    "- `get_pseudotime` returns the estimated pseudotime points."
   ]
  },
  {
   "cell_type": "code",
   "execution_count": null,
   "metadata": {
    "collapsed": true
   },
   "outputs": [],
   "source": []
  },
  {
   "cell_type": "markdown",
   "metadata": {},
   "source": [
    "## Visualize the results\n",
    "The expression profile of some interesting genes have been plotted against the estimated pseudotime. Each point corresponds to a particular gene expression in a cell. \n",
    "\n",
    "The points are coloured based on cell cycle stages according to <a href=\"https://www.ncbi.nlm.nih.gov/pmc/articles/PMC4102402/\" terget=\"_blank\" style=\"text-decoration:none;\">McDavid et al. (2014)</a>. The circular horizontal axis (where both first and last labels are G2/M) represents the periodicity realized by the method in pseudotime inference. \n",
    "\n",
    "The solid black line is the posterior predicted mean of expression profiles while the grey ribbon depicts the 95% confidence interval. \n",
    "\n",
    "The vertical dotted lines are the CycleBase peak times for the selected genes.\n",
    "\n",
    "To see the expression profiles of a different set of genes a list containing gene names shound be passed to the function `plot_genes`."
   ]
  },
  {
   "cell_type": "code",
   "execution_count": null,
   "metadata": {
    "collapsed": true
   },
   "outputs": [],
   "source": []
  }
 ],
 "metadata": {
  "anaconda-cloud": {},
  "kernelspec": {
   "display_name": "Python [conda root]",
   "language": "python",
   "name": "conda-root-py"
  },
  "language_info": {
   "codemirror_mode": {
    "name": "ipython",
    "version": 3
   },
   "file_extension": ".py",
   "mimetype": "text/x-python",
   "name": "python",
   "nbconvert_exporter": "python",
   "pygments_lexer": "ipython3",
   "version": "3.5.2"
  }
 },
 "nbformat": 4,
 "nbformat_minor": 1
}
