{
 "cells": [
  {
   "cell_type": "markdown",
   "metadata": {},
   "source": [
    "# Applying GrandPrix"
   ]
  },
  {
   "cell_type": "code",
   "execution_count": null,
   "metadata": {
    "collapsed": false
   },
   "outputs": [],
   "source": [
    "import pandas as pd\n",
    "import numpy as np\n",
    "from matplotlib import pyplot as plt\n",
    "from GrandPrix import GrandPrix\n",
    "from utils import plot_XY\n",
    "%matplotlib inline"
   ]
  },
  {
   "cell_type": "markdown",
   "metadata": {},
   "source": [
    "## Data description"
   ]
  },
  {
   "cell_type": "code",
   "execution_count": null,
   "metadata": {
    "collapsed": true
   },
   "outputs": [],
   "source": [
    "Y = pd.read_csv('data/Guo/GuoTrainingData.csv', index_col=[0])"
   ]
  },
  {
   "cell_type": "code",
   "execution_count": null,
   "metadata": {
    "collapsed": true
   },
   "outputs": [],
   "source": [
    "N, D = Y.shape"
   ]
  },
  {
   "cell_type": "markdown",
   "metadata": {},
   "source": [
    "## Model Construction"
   ]
  },
  {
   "cell_type": "code",
   "execution_count": null,
   "metadata": {
    "collapsed": false
   },
   "outputs": [],
   "source": [
    "guo = GrandPrix(Y.values)"
   ]
  },
  {
   "cell_type": "markdown",
   "metadata": {},
   "source": [
    "### Build sparse Bayesian GPLVM model\n",
    "Following initializations are essential for better optimizations. If not initialized, the default values will be used.  \n",
    "<ul>\n",
    "<li>__kernel:__ Covariance function to define the mappring mapping from the latent space to the data space in Gaussian process prior. \n",
    "<!--\n",
    "    <ul>\n",
    "        <li>name</li>\n",
    "        <li>ls</li>\n",
    "        <li>var</li>\n",
    "        <li>period</li>\n",
    "    </ul>\n",
    "-->\n",
    "</li>\n",
    "\n",
    "<li>__vParams:__ Variational Parameters\n",
    "    <ul>\n",
    "        <li>Xmean - mean of the latent dimensions. \n",
    "        \n",
    "        ndarray of size $N \\times Q$.</li>\n",
    "        <li>Xvar - variance over the latent dimensions. A single floating point value or a ndarray of size $N \\times Q$.</li>\n",
    "        <li>Z - inducing inputs. ndarray of size $M \\times Q$.</li>\n",
    "    </ul>\n",
    "</li>\n",
    "<li>__priors:__ Prior over the latent input dimensions\n",
    "    <ul>\n",
    "        <li>Priormean - mean of the prior distribution. ndarray of size $N \\times D$.</li>\n",
    "        <li>Priorvar - variance of the prior distribution. A floating point value or a ndarray of size $N \\times D$.</li>\n",
    "    </ul>\n",
    "</li>\n",
    "\n",
    "<li>__latent_dims:__ Number of latent dimensions. An integer.</li>\n",
    "<li>__n_inducing_points:__ Number of inducing points. An integer.</li>\n",
    "</ul>"
   ]
  },
  {
   "cell_type": "code",
   "execution_count": null,
   "metadata": {
    "collapsed": false
   },
   "outputs": [],
   "source": [
    "latent_dims = 2\n",
    "n_inducing_points = 40\n",
    "X_var = 0.028\n",
    "vParams = {'Xvar':X_var}"
   ]
  },
  {
   "cell_type": "markdown",
   "metadata": {},
   "source": [
    "## Without informative prior"
   ]
  },
  {
   "cell_type": "code",
   "execution_count": null,
   "metadata": {
    "collapsed": false
   },
   "outputs": [],
   "source": [
    "guo.build_model(vParams=vParams, latent_dims=latent_dims, n_inducing_points = n_inducing_points)"
   ]
  },
  {
   "cell_type": "code",
   "execution_count": null,
   "metadata": {
    "collapsed": false
   },
   "outputs": [],
   "source": [
    "guo.fit_model()"
   ]
  },
  {
   "cell_type": "code",
   "execution_count": null,
   "metadata": {
    "collapsed": true
   },
   "outputs": [],
   "source": [
    "X_np = guo.get_latent_dims(2)"
   ]
  },
  {
   "cell_type": "markdown",
   "metadata": {},
   "source": [
    "## With informative prior"
   ]
  },
  {
   "cell_type": "code",
   "execution_count": null,
   "metadata": {
    "collapsed": false
   },
   "outputs": [],
   "source": [
    "def MapTo01(y):\n",
    "    return (y.copy() - y.min(0)) / (y.max(0) - y.min(0))\n",
    "ct = np.zeros(N)\n",
    "for il, l in enumerate(Y.index):\n",
    "    s = l.split(' ')\n",
    "    ct[il] = int(s[0])\n",
    "prior_mean = np.zeros((N, latent_dims))\n",
    "prior_mean[:, 0] = MapTo01(ct) \n",
    "\n",
    "priors = {'Priormean':prior_mean, 'Priorvar':0.1}"
   ]
  },
  {
   "cell_type": "code",
   "execution_count": null,
   "metadata": {
    "collapsed": false
   },
   "outputs": [],
   "source": [
    "guo.build_model(priors, vParams, latent_dims=latent_dims, n_inducing_points = n_inducing_points)"
   ]
  },
  {
   "cell_type": "code",
   "execution_count": null,
   "metadata": {
    "collapsed": true
   },
   "outputs": [],
   "source": [
    "guo.fit_model()"
   ]
  },
  {
   "cell_type": "code",
   "execution_count": null,
   "metadata": {
    "collapsed": true
   },
   "outputs": [],
   "source": [
    "X_wp = guo.get_latent_dims(2)"
   ]
  },
  {
   "cell_type": "code",
   "execution_count": null,
   "metadata": {
    "collapsed": false
   },
   "outputs": [],
   "source": [
    "fig, ax = plt.subplots(nrows=1, ncols=2, sharey=True, figsize=(16, 16))\n",
    "plt.subplot(2, 2, 1)\n",
    "plot_XY(X_np[:,0], X_np[:,1], 'No prior', Y.index)\n",
    "plt.subplot(2, 2, 2)\n",
    "plot_XY(X_wp[:,0], X_wp[:,1], 'With prior', Y.index)"
   ]
  },
  {
   "cell_type": "markdown",
   "metadata": {},
   "source": [
    "## 1-D optimization"
   ]
  },
  {
   "cell_type": "code",
   "execution_count": null,
   "metadata": {
    "collapsed": false
   },
   "outputs": [],
   "source": [
    "x = prior_mean[:,0][:,None]\n",
    "p = {'Priormean':x, 'Priorvar':0.1}\n",
    "vParams = {'Xvar':X_var}\n",
    "guo.build_model(p, vParams=vParams, latent_dims=1, n_inducing_points = 30)"
   ]
  },
  {
   "cell_type": "code",
   "execution_count": null,
   "metadata": {
    "collapsed": true
   },
   "outputs": [],
   "source": [
    "guo.fit_model()"
   ]
  },
  {
   "cell_type": "code",
   "execution_count": null,
   "metadata": {
    "collapsed": true
   },
   "outputs": [],
   "source": [
    "X_1d_opt = guo.get_latent_dims(1)"
   ]
  },
  {
   "cell_type": "code",
   "execution_count": null,
   "metadata": {
    "collapsed": false
   },
   "outputs": [],
   "source": [
    "def plotcorrelation(X, Y, title, data_labels):\n",
    "    plt.rcParams['axes.facecolor'] = 'white'\n",
    "    plt.rcParams['axes.edgecolor'] = 'black'\n",
    "    plt.rc('axes', color_cycle=['royalblue', 'orange', 'green', 'red', 'blueviolet', 'sienna', 'hotpink', 'gray', 'y', 'c'])\n",
    "\n",
    "    label_order = ['1', '16', '2', '32 ICM', '32 TE', '4', '64 PE', '64 TE', '64 EPI', '8']\n",
    "    yVals = np.array([1, 2, 4, 8, 16, 24, 32])\n",
    "    yStrings = np.array(['1', '2', '4', '8', '16', '32', '64'])\n",
    "\n",
    "    for l in data_labels:\n",
    "        x = Y[data_labels == l]\n",
    "        if x[0]==64.:\n",
    "            x = [x[i] - 32 for i in range(0,len(x))]\n",
    "        elif x[0] == 1.:\n",
    "            x = [x[i] - 0.5 for i in range(0, len(x))]\n",
    "        elif x[0] == 4.:\n",
    "            x = [x[i] + 1. for i in range(0, len(x))]\n",
    "        elif x[0] == 32.:\n",
    "            x = [x[i] - 8. for i in range(0, len(x))]\n",
    "        # print(x)\n",
    "        plt.scatter(X[data_labels == l], x, 100, label=l)\n",
    "        plt.tick_params(labelsize=14)\n",
    "        plt.yticks(yVals, yStrings)\n",
    "        plt.xlabel('Pseudotime', fontsize = 20)\n",
    "        plt.ylabel('Capture time', fontsize=20)\n",
    "        plt.title(title, fontsize=20)\n",
    "        plt.xlabel('Pseudotime', fontsize = 16)\n",
    "        l = plt.legend(loc=\"lower right\", fontsize=14, ncol=2, title=\"Capture stages\", borderaxespad=0., columnspacing=0.2, handletextpad=0.1)\n",
    "        plt.setp(l.get_title(), fontsize=16)"
   ]
  },
  {
   "cell_type": "code",
   "execution_count": null,
   "metadata": {
    "collapsed": false
   },
   "outputs": [],
   "source": [
    "# fig, ax = plt.subplots(nrows=1, ncols=2, sharey=True, figsize=(16, 16))\n",
    "# plt.subplot(2, 2, 1)\n",
    "plotcorrelation(X_1d_opt[:, 0], ct, 'No prior', Y.index)\n",
    "# plt.subplot(2, 2, 2)\n",
    "# plotcorrelation(X_wp[:, 0], ct, 'With prior', Y.index)"
   ]
  },
  {
   "cell_type": "code",
   "execution_count": null,
   "metadata": {
    "collapsed": false
   },
   "outputs": [],
   "source": [
    "X_1d_opt.shape"
   ]
  },
  {
   "cell_type": "code",
   "execution_count": null,
   "metadata": {
    "collapsed": true
   },
   "outputs": [],
   "source": []
  }
 ],
 "metadata": {
  "anaconda-cloud": {},
  "kernelspec": {
   "display_name": "Python [conda root]",
   "language": "python",
   "name": "conda-root-py"
  },
  "language_info": {
   "codemirror_mode": {
    "name": "ipython",
    "version": 3
   },
   "file_extension": ".py",
   "mimetype": "text/x-python",
   "name": "python",
   "nbconvert_exporter": "python",
   "pygments_lexer": "ipython3",
   "version": "3.5.2"
  }
 },
 "nbformat": 4,
 "nbformat_minor": 1
}
