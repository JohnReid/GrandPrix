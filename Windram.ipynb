{
 "cells": [
  {
   "cell_type": "markdown",
   "metadata": {},
   "source": [
    "<!--# GrandPrix: Scaling up the Bayesian GPLVM with informative prior-->\n",
    "# Applying GrandPrix to the *Arabidopis thaliana* microarray data\n",
    "_Sumon Ahmed_, 2017\n",
    "\n",
    "<!--The sparse variational inference of the Bayesian GPLVM allows the computation of an exact lower bound of the marginal log likelihood $\\log p(Y|\\theta)$ by variationaly integrating out the input/latent variables of the GP. \n",
    "-->\n",
    "This notebooks depicts how GrandPrix with informative prior over the latent space can be used to infer one dimensional pseudotime from microarray data.   "
   ]
  },
  {
   "cell_type": "code",
   "execution_count": 1,
   "metadata": {
    "collapsed": false
   },
   "outputs": [],
   "source": [
    "import pandas as pd\n",
    "import numpy as np\n",
    "from GrandPrix import GrandPrix\n",
    "from utils import plot, plot_comparison, calcroughness\n",
    "%matplotlib inline"
   ]
  },
  {
   "cell_type": "markdown",
   "metadata": {},
   "source": [
    "## Data decription\n",
    "<a href=\"https://www.ncbi.nlm.nih.gov/pubmed/23023172\" terget=\"_blank\">Windram et al. (2012)</a> analysed the effects of Botrytis cinera infection on *Arabidopis\n",
    "thaliana*. The generated time series contained 24 distinct capture time points for both infected and control conditions. \n",
    "\n",
    "The WindramTrainingData.csv contains the expression profiles of the 100 genes of the 24 cells in infected conditions which have been used in the inference.\n",
    "\n",
    "The WindramMetaData.csv contains the additional information of the data such as capture time of each cells, different initializations of latent space, etc."
   ]
  },
  {
   "cell_type": "code",
   "execution_count": 2,
   "metadata": {
    "collapsed": false
   },
   "outputs": [],
   "source": [
    "Y = pd.read_csv('data/Windram/WindramTrainingData.csv', index_col=[0]).T.values\n",
    "mData = pd.read_csv('data/Windram/WindramMetaData.csv', index_col=[0])"
   ]
  },
  {
   "cell_type": "code",
   "execution_count": 3,
   "metadata": {
    "collapsed": true
   },
   "outputs": [],
   "source": [
    "N, D = Y.shape"
   ]
  },
  {
   "cell_type": "code",
   "execution_count": 4,
   "metadata": {
    "collapsed": false
   },
   "outputs": [
    {
     "data": {
      "text/html": [
       "<div>\n",
       "<style>\n",
       "    .dataframe thead tr:only-child th {\n",
       "        text-align: right;\n",
       "    }\n",
       "\n",
       "    .dataframe thead th {\n",
       "        text-align: left;\n",
       "    }\n",
       "\n",
       "    .dataframe tbody tr th {\n",
       "        vertical-align: top;\n",
       "    }\n",
       "</style>\n",
       "<table border=\"1\" class=\"dataframe\">\n",
       "  <thead>\n",
       "    <tr style=\"text-align: right;\">\n",
       "      <th></th>\n",
       "      <th>cell</th>\n",
       "      <th>obstime</th>\n",
       "      <th>condition</th>\n",
       "      <th>capture</th>\n",
       "      <th>obstime.orig</th>\n",
       "      <th>capture.orig</th>\n",
       "      <th>init_1</th>\n",
       "      <th>init_2</th>\n",
       "      <th>init_3</th>\n",
       "      <th>init_4</th>\n",
       "      <th>...</th>\n",
       "      <th>init_11</th>\n",
       "      <th>init_12</th>\n",
       "      <th>init_13</th>\n",
       "      <th>init_14</th>\n",
       "      <th>init_15</th>\n",
       "      <th>init_16</th>\n",
       "      <th>init_17</th>\n",
       "      <th>init_18</th>\n",
       "      <th>init_19</th>\n",
       "      <th>init_20</th>\n",
       "    </tr>\n",
       "  </thead>\n",
       "  <tbody>\n",
       "    <tr>\n",
       "      <th>1</th>\n",
       "      <td>GSM734540</td>\n",
       "      <td>6</td>\n",
       "      <td>Botrytis</td>\n",
       "      <td>6</td>\n",
       "      <td>2</td>\n",
       "      <td>2</td>\n",
       "      <td>3.000000</td>\n",
       "      <td>3.000000</td>\n",
       "      <td>3.000000</td>\n",
       "      <td>3.000000</td>\n",
       "      <td>...</td>\n",
       "      <td>3.000000</td>\n",
       "      <td>3.000000</td>\n",
       "      <td>3.000000</td>\n",
       "      <td>3.000000</td>\n",
       "      <td>3.000000</td>\n",
       "      <td>3.000000</td>\n",
       "      <td>3.000000</td>\n",
       "      <td>3.000000</td>\n",
       "      <td>8.478261</td>\n",
       "      <td>8.478261</td>\n",
       "    </tr>\n",
       "    <tr>\n",
       "      <th>2</th>\n",
       "      <td>GSM734541</td>\n",
       "      <td>6</td>\n",
       "      <td>Botrytis</td>\n",
       "      <td>6</td>\n",
       "      <td>4</td>\n",
       "      <td>4</td>\n",
       "      <td>4.826087</td>\n",
       "      <td>4.826087</td>\n",
       "      <td>4.826087</td>\n",
       "      <td>4.826087</td>\n",
       "      <td>...</td>\n",
       "      <td>4.826087</td>\n",
       "      <td>4.826087</td>\n",
       "      <td>4.826087</td>\n",
       "      <td>4.826087</td>\n",
       "      <td>4.826087</td>\n",
       "      <td>4.826087</td>\n",
       "      <td>4.826087</td>\n",
       "      <td>4.826087</td>\n",
       "      <td>12.130435</td>\n",
       "      <td>12.130435</td>\n",
       "    </tr>\n",
       "    <tr>\n",
       "      <th>3</th>\n",
       "      <td>GSM734542</td>\n",
       "      <td>6</td>\n",
       "      <td>Botrytis</td>\n",
       "      <td>6</td>\n",
       "      <td>6</td>\n",
       "      <td>6</td>\n",
       "      <td>8.478261</td>\n",
       "      <td>6.652174</td>\n",
       "      <td>6.652174</td>\n",
       "      <td>6.652174</td>\n",
       "      <td>...</td>\n",
       "      <td>6.652174</td>\n",
       "      <td>6.652174</td>\n",
       "      <td>6.652174</td>\n",
       "      <td>6.652174</td>\n",
       "      <td>6.652174</td>\n",
       "      <td>6.652174</td>\n",
       "      <td>6.652174</td>\n",
       "      <td>6.652174</td>\n",
       "      <td>3.000000</td>\n",
       "      <td>10.304348</td>\n",
       "    </tr>\n",
       "    <tr>\n",
       "      <th>4</th>\n",
       "      <td>GSM734543</td>\n",
       "      <td>6</td>\n",
       "      <td>Botrytis</td>\n",
       "      <td>6</td>\n",
       "      <td>8</td>\n",
       "      <td>8</td>\n",
       "      <td>6.652174</td>\n",
       "      <td>10.304348</td>\n",
       "      <td>10.304348</td>\n",
       "      <td>8.478261</td>\n",
       "      <td>...</td>\n",
       "      <td>8.478261</td>\n",
       "      <td>10.304348</td>\n",
       "      <td>10.304348</td>\n",
       "      <td>10.304348</td>\n",
       "      <td>8.478261</td>\n",
       "      <td>8.478261</td>\n",
       "      <td>8.478261</td>\n",
       "      <td>10.304348</td>\n",
       "      <td>6.652174</td>\n",
       "      <td>6.652174</td>\n",
       "    </tr>\n",
       "    <tr>\n",
       "      <th>5</th>\n",
       "      <td>GSM734544</td>\n",
       "      <td>6</td>\n",
       "      <td>Botrytis</td>\n",
       "      <td>6</td>\n",
       "      <td>10</td>\n",
       "      <td>10</td>\n",
       "      <td>10.304348</td>\n",
       "      <td>8.478261</td>\n",
       "      <td>8.478261</td>\n",
       "      <td>10.304348</td>\n",
       "      <td>...</td>\n",
       "      <td>10.304348</td>\n",
       "      <td>8.478261</td>\n",
       "      <td>8.478261</td>\n",
       "      <td>8.478261</td>\n",
       "      <td>10.304348</td>\n",
       "      <td>10.304348</td>\n",
       "      <td>10.304348</td>\n",
       "      <td>8.478261</td>\n",
       "      <td>13.956522</td>\n",
       "      <td>3.000000</td>\n",
       "    </tr>\n",
       "  </tbody>\n",
       "</table>\n",
       "<p>5 rows × 26 columns</p>\n",
       "</div>"
      ],
      "text/plain": [
       "        cell  obstime condition  capture  obstime.orig  capture.orig  \\\n",
       "1  GSM734540        6  Botrytis        6             2             2   \n",
       "2  GSM734541        6  Botrytis        6             4             4   \n",
       "3  GSM734542        6  Botrytis        6             6             6   \n",
       "4  GSM734543        6  Botrytis        6             8             8   \n",
       "5  GSM734544        6  Botrytis        6            10            10   \n",
       "\n",
       "      init_1     init_2     init_3     init_4    ...        init_11  \\\n",
       "1   3.000000   3.000000   3.000000   3.000000    ...       3.000000   \n",
       "2   4.826087   4.826087   4.826087   4.826087    ...       4.826087   \n",
       "3   8.478261   6.652174   6.652174   6.652174    ...       6.652174   \n",
       "4   6.652174  10.304348  10.304348   8.478261    ...       8.478261   \n",
       "5  10.304348   8.478261   8.478261  10.304348    ...      10.304348   \n",
       "\n",
       "     init_12    init_13    init_14    init_15    init_16    init_17  \\\n",
       "1   3.000000   3.000000   3.000000   3.000000   3.000000   3.000000   \n",
       "2   4.826087   4.826087   4.826087   4.826087   4.826087   4.826087   \n",
       "3   6.652174   6.652174   6.652174   6.652174   6.652174   6.652174   \n",
       "4  10.304348  10.304348  10.304348   8.478261   8.478261   8.478261   \n",
       "5   8.478261   8.478261   8.478261  10.304348  10.304348  10.304348   \n",
       "\n",
       "     init_18    init_19    init_20  \n",
       "1   3.000000   8.478261   8.478261  \n",
       "2   4.826087  12.130435  12.130435  \n",
       "3   6.652174   3.000000  10.304348  \n",
       "4  10.304348   6.652174   6.652174  \n",
       "5   8.478261  13.956522   3.000000  \n",
       "\n",
       "[5 rows x 26 columns]"
      ]
     },
     "execution_count": 4,
     "metadata": {},
     "output_type": "execute_result"
    }
   ],
   "source": [
    "mData.head()"
   ]
  },
  {
   "cell_type": "markdown",
   "metadata": {},
   "source": [
    "## Model Construction\n",
    "The first step of using the GrandPrix is to initialize the model with the observed data and the additional metadata (optional)."
   ]
  },
  {
   "cell_type": "code",
   "execution_count": 5,
   "metadata": {
    "collapsed": true
   },
   "outputs": [],
   "source": [
    "mp = GrandPrix(Y, mData)"
   ]
  },
  {
   "cell_type": "markdown",
   "metadata": {},
   "source": [
    "### Build sparse Bayesian GPLVM model\n",
    "Following initializations are essential for better optimizations. If not initialized, the default values will be used.  \n",
    "<ul>\n",
    "<li>__kernel:__ Covariance function to define the mappring mapping from the latent space to the data space in Gaussian process prior. \n",
    "<!--\n",
    "    <ul>\n",
    "        <li>name</li>\n",
    "        <li>ls</li>\n",
    "        <li>var</li>\n",
    "        <li>period</li>\n",
    "    </ul>\n",
    "-->\n",
    "</li>\n",
    "\n",
    "<li>__vParams:__ Variational Parameters\n",
    "    <ul>\n",
    "        <li>Xmean - mean of the latent dimensions. \n",
    "        \n",
    "        ndarray of size $N \\times Q$.</li>\n",
    "        <li>Xvar - variance over the latent dimensions. A single floating point value or a ndarray of size $N \\times Q$.</li>\n",
    "        <li>Z - inducing inputs. ndarray of size $M \\times Q$.</li>\n",
    "    </ul>\n",
    "</li>\n",
    "<li>__priors:__ Prior over the latent input dimensions\n",
    "    <ul>\n",
    "        <li>Priormean - mean of the prior distribution. ndarray of size $N \\times D$.</li>\n",
    "        <li>Priorvar - variance of the prior distribution. A floating point value or a ndarray of size $N \\times D$.</li>\n",
    "    </ul>\n",
    "</li>\n",
    "\n",
    "<li>__latent_dims:__ Number of latent dimensions. An integer.</li>\n",
    "<li>__n_inducing_points:__ Number of inducing points. An integer.</li>\n",
    "</ul>"
   ]
  },
  {
   "cell_type": "code",
   "execution_count": 6,
   "metadata": {
    "collapsed": false
   },
   "outputs": [],
   "source": [
    "np.random.seed(10)\n",
    "sigma_t = 3.\n",
    "prior_mean = mData['capture'].values[:, None]\n",
    "\n",
    "X_mean = [prior_mean[i, 0] + sigma_t * np.random.randn(1) for i in range(0, N)]   \n",
    "\n",
    "priors = {'Priormean':prior_mean, 'Priorvar':np.square(sigma_t)}\n",
    "vParams = {'Xmean':np.asarray(X_mean)}\n",
    "\n",
    "mp.build_model(priors, vParams, kernel={'name':'Matern32', 'ls':18.0, 'var':1.0})"
   ]
  },
  {
   "cell_type": "markdown",
   "metadata": {},
   "source": [
    "### Run the model\n",
    "- `fit_model` optimizes the model.\n",
    "- `get_pseudotime` returns the estimated pseudotime points."
   ]
  },
  {
   "cell_type": "code",
   "execution_count": 7,
   "metadata": {
    "collapsed": false
   },
   "outputs": [],
   "source": [
    "mp.fit_model()"
   ]
  },
  {
   "cell_type": "code",
   "execution_count": 8,
   "metadata": {
    "collapsed": true
   },
   "outputs": [],
   "source": [
    "pseudotimes = mp.get_pseudotime()"
   ]
  },
  {
   "cell_type": "markdown",
   "metadata": {},
   "source": [
    "## Visualize the results\n",
    "Estimated pseudotimes have been plotted against the actual cell capture times to visualize the correspondence between them. Each point represents a particular cell.\n",
    "\n",
    "The points are coloured according to the actual cell capture time. "
   ]
  },
  {
   "cell_type": "code",
   "execution_count": 9,
   "metadata": {
    "collapsed": false
   },
   "outputs": [
    {
     "data": {
      "image/png": "[encoded data removed]",
      "text/plain": [
       "<matplotlib.figure.Figure at 0x7f77605bd240>"
      ]
     },
     "metadata": {},
     "output_type": "display_data"
    }
   ],
   "source": [
    "actual_capture_time = mData['capture.orig'].values\n",
    "plot('', 'Pseudotime', 'Capture time', pseudotimes, actual_capture_time, mData['capture'].values)"
   ]
  },
  {
   "cell_type": "markdown",
   "metadata": {},
   "source": [
    "## Comparison to the <a href=\"https://github.com/JohnReid/DeLorean\" target=\"_blank\" style=\"text-decoration:none;\"> DeLorean Model</a>\n",
    "* $20$ different initializations have been used\n",
    "* Models have been compared for varying number of inducing points in terms of -\n",
    "> * the rank correaltions between actual capture time and estimated pseudotimes\n",
    "> * the fitting times required "
   ]
  },
  {
   "cell_type": "code",
   "execution_count": 10,
   "metadata": {
    "collapsed": false
   },
   "outputs": [
    {
     "data": {
      "image/png": "[encoded data removed]",
      "text/plain": [
       "<matplotlib.figure.Figure at 0x7f77603751d0>"
      ]
     },
     "metadata": {},
     "output_type": "display_data"
    }
   ],
   "source": [
    "plotDf = pd.read_csv('data/Windram/WindramDeLorean.csv', index_col=[0])\n",
    "plot_comparison(plotDf)"
   ]
  },
  {
   "cell_type": "markdown",
   "metadata": {},
   "source": [
    "## Roughness\n",
    "Roughness for a particular gene is defined in <a href=\"https://www.ncbi.nlm.nih.gov/pubmed/27318198\" target=\"_blank\">DeLorean</a> as \n",
    "$$\\frac{1}{\\sigma_g} \\sqrt{ \\frac{1}{C-1} \n",
    "\\sum_{c=1}^{C-1} \\left(x_{g, z_c} - x_{g, z_{c+1}} \\right)^2 }$$\n",
    "where\n",
    "* $\\sigma_g$ the standard deviation of gene expression\n",
    "* $x_{g, z_c}$ is the gene expression for gene $g$ at pseudotime order $z_c$\n",
    "\n",
    "This metric measures the smoothness of the gene expression profile by looking at the differences of consecutive measurements. Smaller values indicate a smoother response.\n",
    "\n",
    "The average roughness statistics for 50 heldout genes using different number of inducing points have been noted. The green bars are proportional to the values shown. "
   ]
  },
  {
   "cell_type": "code",
   "execution_count": 11,
   "metadata": {
    "collapsed": false
   },
   "outputs": [
    {
     "data": {
      "text/html": [
       "<style  type=\"text/css\" >\n",
       "    #T_ec1f1b4e_d50d_11e7_bc93_14dda94ff764row0_col0 {\n",
       "            width:  10em;\n",
       "             height:  80%;\n",
       "        }    #T_ec1f1b4e_d50d_11e7_bc93_14dda94ff764row0_col1 {\n",
       "            width:  10em;\n",
       "             height:  80%;\n",
       "            background:  linear-gradient(90deg,lightgreen 100.0%, transparent 0%);\n",
       "        }    #T_ec1f1b4e_d50d_11e7_bc93_14dda94ff764row1_col0 {\n",
       "            width:  10em;\n",
       "             height:  80%;\n",
       "            background:  linear-gradient(90deg,lightgreen 11.1%, transparent 0%);\n",
       "        }    #T_ec1f1b4e_d50d_11e7_bc93_14dda94ff764row1_col1 {\n",
       "            width:  10em;\n",
       "             height:  80%;\n",
       "            background:  linear-gradient(90deg,lightgreen 22.3%, transparent 0%);\n",
       "        }    #T_ec1f1b4e_d50d_11e7_bc93_14dda94ff764row2_col0 {\n",
       "            width:  10em;\n",
       "             height:  80%;\n",
       "            background:  linear-gradient(90deg,lightgreen 22.2%, transparent 0%);\n",
       "        }    #T_ec1f1b4e_d50d_11e7_bc93_14dda94ff764row2_col1 {\n",
       "            width:  10em;\n",
       "             height:  80%;\n",
       "            background:  linear-gradient(90deg,lightgreen 10.9%, transparent 0%);\n",
       "        }    #T_ec1f1b4e_d50d_11e7_bc93_14dda94ff764row3_col0 {\n",
       "            width:  10em;\n",
       "             height:  80%;\n",
       "            background:  linear-gradient(90deg,lightgreen 33.3%, transparent 0%);\n",
       "        }    #T_ec1f1b4e_d50d_11e7_bc93_14dda94ff764row3_col1 {\n",
       "            width:  10em;\n",
       "             height:  80%;\n",
       "        }    #T_ec1f1b4e_d50d_11e7_bc93_14dda94ff764row4_col0 {\n",
       "            width:  10em;\n",
       "             height:  80%;\n",
       "            background:  linear-gradient(90deg,lightgreen 44.4%, transparent 0%);\n",
       "        }    #T_ec1f1b4e_d50d_11e7_bc93_14dda94ff764row4_col1 {\n",
       "            width:  10em;\n",
       "             height:  80%;\n",
       "        }    #T_ec1f1b4e_d50d_11e7_bc93_14dda94ff764row5_col0 {\n",
       "            width:  10em;\n",
       "             height:  80%;\n",
       "            background:  linear-gradient(90deg,lightgreen 55.6%, transparent 0%);\n",
       "        }    #T_ec1f1b4e_d50d_11e7_bc93_14dda94ff764row5_col1 {\n",
       "            width:  10em;\n",
       "             height:  80%;\n",
       "        }    #T_ec1f1b4e_d50d_11e7_bc93_14dda94ff764row6_col0 {\n",
       "            width:  10em;\n",
       "             height:  80%;\n",
       "            background:  linear-gradient(90deg,lightgreen 66.7%, transparent 0%);\n",
       "        }    #T_ec1f1b4e_d50d_11e7_bc93_14dda94ff764row6_col1 {\n",
       "            width:  10em;\n",
       "             height:  80%;\n",
       "        }    #T_ec1f1b4e_d50d_11e7_bc93_14dda94ff764row7_col0 {\n",
       "            width:  10em;\n",
       "             height:  80%;\n",
       "            background:  linear-gradient(90deg,lightgreen 77.8%, transparent 0%);\n",
       "        }    #T_ec1f1b4e_d50d_11e7_bc93_14dda94ff764row7_col1 {\n",
       "            width:  10em;\n",
       "             height:  80%;\n",
       "        }    #T_ec1f1b4e_d50d_11e7_bc93_14dda94ff764row8_col0 {\n",
       "            width:  10em;\n",
       "             height:  80%;\n",
       "            background:  linear-gradient(90deg,lightgreen 88.9%, transparent 0%);\n",
       "        }    #T_ec1f1b4e_d50d_11e7_bc93_14dda94ff764row8_col1 {\n",
       "            width:  10em;\n",
       "             height:  80%;\n",
       "        }    #T_ec1f1b4e_d50d_11e7_bc93_14dda94ff764row9_col0 {\n",
       "            width:  10em;\n",
       "             height:  80%;\n",
       "            background:  linear-gradient(90deg,lightgreen 100.0%, transparent 0%);\n",
       "        }    #T_ec1f1b4e_d50d_11e7_bc93_14dda94ff764row9_col1 {\n",
       "            width:  10em;\n",
       "             height:  80%;\n",
       "        }</style>  \n",
       "<table id=\"T_ec1f1b4e_d50d_11e7_bc93_14dda94ff764\" > \n",
       "<thead>    <tr> \n",
       "        <th class=\"blank level0\" ></th> \n",
       "        <th class=\"col_heading level0 col0\" >inducingPoints</th> \n",
       "        <th class=\"col_heading level0 col1\" >GPLVM_avg_roughness</th> \n",
       "    </tr></thead> \n",
       "<tbody>    <tr> \n",
       "        <th id=\"T_ec1f1b4e_d50d_11e7_bc93_14dda94ff764level0_row0\" class=\"row_heading level0 row0\" >1</th> \n",
       "        <td id=\"T_ec1f1b4e_d50d_11e7_bc93_14dda94ff764row0_col0\" class=\"data row0 col0\" >4</td> \n",
       "        <td id=\"T_ec1f1b4e_d50d_11e7_bc93_14dda94ff764row0_col1\" class=\"data row0 col1\" >0.73674</td> \n",
       "    </tr>    <tr> \n",
       "        <th id=\"T_ec1f1b4e_d50d_11e7_bc93_14dda94ff764level0_row1\" class=\"row_heading level0 row1\" >2</th> \n",
       "        <td id=\"T_ec1f1b4e_d50d_11e7_bc93_14dda94ff764row1_col0\" class=\"data row1 col0\" >6</td> \n",
       "        <td id=\"T_ec1f1b4e_d50d_11e7_bc93_14dda94ff764row1_col1\" class=\"data row1 col1\" >0.712965</td> \n",
       "    </tr>    <tr> \n",
       "        <th id=\"T_ec1f1b4e_d50d_11e7_bc93_14dda94ff764level0_row2\" class=\"row_heading level0 row2\" >3</th> \n",
       "        <td id=\"T_ec1f1b4e_d50d_11e7_bc93_14dda94ff764row2_col0\" class=\"data row2 col0\" >8</td> \n",
       "        <td id=\"T_ec1f1b4e_d50d_11e7_bc93_14dda94ff764row2_col1\" class=\"data row2 col1\" >0.709486</td> \n",
       "    </tr>    <tr> \n",
       "        <th id=\"T_ec1f1b4e_d50d_11e7_bc93_14dda94ff764level0_row3\" class=\"row_heading level0 row3\" >4</th> \n",
       "        <td id=\"T_ec1f1b4e_d50d_11e7_bc93_14dda94ff764row3_col0\" class=\"data row3 col0\" >10</td> \n",
       "        <td id=\"T_ec1f1b4e_d50d_11e7_bc93_14dda94ff764row3_col1\" class=\"data row3 col1\" >0.706149</td> \n",
       "    </tr>    <tr> \n",
       "        <th id=\"T_ec1f1b4e_d50d_11e7_bc93_14dda94ff764level0_row4\" class=\"row_heading level0 row4\" >5</th> \n",
       "        <td id=\"T_ec1f1b4e_d50d_11e7_bc93_14dda94ff764row4_col0\" class=\"data row4 col0\" >12</td> \n",
       "        <td id=\"T_ec1f1b4e_d50d_11e7_bc93_14dda94ff764row4_col1\" class=\"data row4 col1\" >0.706149</td> \n",
       "    </tr>    <tr> \n",
       "        <th id=\"T_ec1f1b4e_d50d_11e7_bc93_14dda94ff764level0_row5\" class=\"row_heading level0 row5\" >6</th> \n",
       "        <td id=\"T_ec1f1b4e_d50d_11e7_bc93_14dda94ff764row5_col0\" class=\"data row5 col0\" >14</td> \n",
       "        <td id=\"T_ec1f1b4e_d50d_11e7_bc93_14dda94ff764row5_col1\" class=\"data row5 col1\" >0.706149</td> \n",
       "    </tr>    <tr> \n",
       "        <th id=\"T_ec1f1b4e_d50d_11e7_bc93_14dda94ff764level0_row6\" class=\"row_heading level0 row6\" >7</th> \n",
       "        <td id=\"T_ec1f1b4e_d50d_11e7_bc93_14dda94ff764row6_col0\" class=\"data row6 col0\" >16</td> \n",
       "        <td id=\"T_ec1f1b4e_d50d_11e7_bc93_14dda94ff764row6_col1\" class=\"data row6 col1\" >0.706149</td> \n",
       "    </tr>    <tr> \n",
       "        <th id=\"T_ec1f1b4e_d50d_11e7_bc93_14dda94ff764level0_row7\" class=\"row_heading level0 row7\" >8</th> \n",
       "        <td id=\"T_ec1f1b4e_d50d_11e7_bc93_14dda94ff764row7_col0\" class=\"data row7 col0\" >18</td> \n",
       "        <td id=\"T_ec1f1b4e_d50d_11e7_bc93_14dda94ff764row7_col1\" class=\"data row7 col1\" >0.706149</td> \n",
       "    </tr>    <tr> \n",
       "        <th id=\"T_ec1f1b4e_d50d_11e7_bc93_14dda94ff764level0_row8\" class=\"row_heading level0 row8\" >9</th> \n",
       "        <td id=\"T_ec1f1b4e_d50d_11e7_bc93_14dda94ff764row8_col0\" class=\"data row8 col0\" >20</td> \n",
       "        <td id=\"T_ec1f1b4e_d50d_11e7_bc93_14dda94ff764row8_col1\" class=\"data row8 col1\" >0.706149</td> \n",
       "    </tr>    <tr> \n",
       "        <th id=\"T_ec1f1b4e_d50d_11e7_bc93_14dda94ff764level0_row9\" class=\"row_heading level0 row9\" >10</th> \n",
       "        <td id=\"T_ec1f1b4e_d50d_11e7_bc93_14dda94ff764row9_col0\" class=\"data row9 col0\" >22</td> \n",
       "        <td id=\"T_ec1f1b4e_d50d_11e7_bc93_14dda94ff764row9_col1\" class=\"data row9 col1\" >0.706149</td> \n",
       "    </tr></tbody> \n",
       "</table> "
      ],
      "text/plain": [
       "<pandas.io.formats.style.Styler at 0x7f77604daac8>"
      ]
     },
     "execution_count": 11,
     "metadata": {},
     "output_type": "execute_result"
    }
   ],
   "source": [
    "plotDf[['inducingPoints','GPLVM_avg_roughness']].style.bar(color='lightgreen')"
   ]
  },
  {
   "cell_type": "markdown",
   "metadata": {},
   "source": [
    "### The following code will regenerate the comparison and roughness results \n",
    "- The code uses 20 different initial conditions from WindramMetaData.csv file.\n",
    "- 50 heldout genes have been loaded from the WindramHeldOut.csv file.\n",
    "\n",
    "Runnig the following code may take upto 25 mins."
   ]
  },
  {
   "cell_type": "code",
   "execution_count": 14,
   "metadata": {
    "collapsed": false
   },
   "outputs": [],
   "source": [
    "from scipy.stats import spearmanr\n",
    "\n",
    "heldOut = pd.read_csv('data/Windram/WindramHeldOut.csv', index_col=0) # G X N\n",
    "\n",
    "u = [4, 6, 8, 10, 12, 14, 16, 18, 20, 22]\n",
    "keys = mData.keys()\n",
    "rows = len(u)\n",
    "cols = len(keys) - 6\n",
    "actualCaptureTime = mData['capture.orig'].values\n",
    "reqTime = np.zeros((rows, cols))\n",
    "spearCorr = np.zeros((rows, cols))\n",
    "roughness = np.zeros((rows, cols))\n",
    "\n",
    "for i in range(0, rows):\n",
    "    for j in range(0, cols):\n",
    "        vParams = {'Xmean':keys[j + 6]}\n",
    "        mp.build_model(priors, vParams, kernel={'name':'Matern32', 'ls':18.0, 'var':1.0}, n_inducing_points = u[i])\n",
    "        mp.fit_model()\n",
    "        pseudotimes = mp.get_pseudotime()\n",
    "        spearCorr[i,j] = spearmanr(pseudotimes, actualCaptureTime)[0]\n",
    "        reqTime[i,j] = mp.get_model_fitting_time()\n",
    "        roughness[i,j] = np.mean(calcroughness(heldOut.values, pseudotimes.reshape(-1)))\n",
    "        \n",
    "bestSpearCorr = np.zeros(rows)\n",
    "avgSpearCorr = np.zeros(rows)\n",
    "avgReqTime = np.zeros(rows)\n",
    "avgRoughness = np.zeros(rows)\n",
    "for n in range(0,rows):\n",
    "    bestSpearCorr[n] = np.max(spearCorr[n])\n",
    "    avgSpearCorr[n] = np.mean(spearCorr[n])\n",
    "    avgReqTime[n] = np.mean(reqTime[n])\n",
    "    avgRoughness[n] = np.mean(roughness[n])\n",
    "\n",
    "plotDf['GPLVM_avg'] = avgSpearCorr\n",
    "plotDf['GPLVM_best'] = bestSpearCorr\n",
    "plotDf['GPLVM_fitting_time'] = avgReqTime\n",
    "plotDf['GPLVM_avg_roughness'] = avgRoughness"
   ]
  },
  {
   "cell_type": "code",
   "execution_count": 17,
   "metadata": {
    "collapsed": false
   },
   "outputs": [],
   "source": [
    "plot_comparison(plotDf)"
   ]
  },
  {
   "cell_type": "code",
   "execution_count": 18,
   "metadata": {
    "collapsed": false
   },
   "outputs": [],
   "source": [
    "plotDf[['inducingPoints','GPLVM_avg_roughness']].style.bar(color='lightgreen')"
   ]
  }
 ],
 "metadata": {
  "anaconda-cloud": {},
  "kernelspec": {
   "display_name": "Python [conda root]",
   "language": "python",
   "name": "conda-root-py"
  },
  "language_info": {
   "codemirror_mode": {
    "name": "ipython",
    "version": 3
   },
   "file_extension": ".py",
   "mimetype": "text/x-python",
   "name": "python",
   "nbconvert_exporter": "python",
   "pygments_lexer": "ipython3",
   "version": "3.5.2"
  }
 },
 "nbformat": 4,
 "nbformat_minor": 1
}
